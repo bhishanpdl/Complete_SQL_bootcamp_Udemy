{
 "cells": [
  {
   "cell_type": "markdown",
   "metadata": {
    "toc": true
   },
   "source": [
    "<h1>Table of Contents<span class=\"tocSkip\"></span></h1>\n",
    "<div class=\"toc\"><ul class=\"toc-item\"><li><span><a href=\"#Module-imports\" data-toc-modified-id=\"Module-imports-1\"><span class=\"toc-item-num\">1&nbsp;&nbsp;</span>Module imports</a></span></li><li><span><a href=\"#Database-utilities\" data-toc-modified-id=\"Database-utilities-2\"><span class=\"toc-item-num\">2&nbsp;&nbsp;</span>Database utilities</a></span></li><li><span><a href=\"#Show-all-table-names-in-given-database\" data-toc-modified-id=\"Show-all-table-names-in-given-database-3\"><span class=\"toc-item-num\">3&nbsp;&nbsp;</span>Show all table names in given database</a></span></li><li><span><a href=\"#Show-given-table's-info\" data-toc-modified-id=\"Show-given-table's-info-4\"><span class=\"toc-item-num\">4&nbsp;&nbsp;</span>Show given table's info</a></span></li><li><span><a href=\"#Get-pandas-dataframe\" data-toc-modified-id=\"Get-pandas-dataframe-5\"><span class=\"toc-item-num\">5&nbsp;&nbsp;</span>Get pandas dataframe</a></span></li><li><span><a href=\"#Make-dataframes-columns-dtype-good\" data-toc-modified-id=\"Make-dataframes-columns-dtype-good-6\"><span class=\"toc-item-num\">6&nbsp;&nbsp;</span>Make dataframes columns dtype good</a></span></li><li><span><a href=\"#Create-pandas-dataframe-of-all-tables-and-all-columns\" data-toc-modified-id=\"Create-pandas-dataframe-of-all-tables-and-all-columns-7\"><span class=\"toc-item-num\">7&nbsp;&nbsp;</span>Create pandas dataframe of all tables and all columns</a></span></li></ul></div>"
   ]
  },
  {
   "cell_type": "markdown",
   "metadata": {},
   "source": [
    "# Module imports"
   ]
  },
  {
   "cell_type": "code",
   "execution_count": 1,
   "metadata": {
    "ExecuteTime": {
     "end_time": "2019-09-14T17:45:15.289138Z",
     "start_time": "2019-09-14T17:45:14.980088Z"
    }
   },
   "outputs": [],
   "source": [
    "import numpy as np\n",
    "import pandas as pd\n",
    "\n",
    "import os\n",
    "import time\n",
    "import yaml\n",
    "\n",
    "import psycopg2"
   ]
  },
  {
   "cell_type": "markdown",
   "metadata": {},
   "source": [
    "# Database utilities"
   ]
  },
  {
   "cell_type": "code",
   "execution_count": 2,
   "metadata": {
    "ExecuteTime": {
     "end_time": "2019-09-14T17:45:15.306064Z",
     "start_time": "2019-09-14T17:45:15.291129Z"
    }
   },
   "outputs": [],
   "source": [
    "import util_database\n",
    "from util_database import *\n",
    "dbname = 'dvdrental'"
   ]
  },
  {
   "cell_type": "code",
   "execution_count": 18,
   "metadata": {
    "ExecuteTime": {
     "end_time": "2019-09-14T17:45:49.638791Z",
     "start_time": "2019-09-14T17:45:49.626166Z"
    }
   },
   "outputs": [
    {
     "name": "stdout",
     "output_type": "stream",
     "text": [
      "<class 'module'>\n"
     ]
    },
    {
     "data": {
      "text/html": [
       "<div>\n",
       "<style scoped>\n",
       "    .dataframe tbody tr th:only-of-type {\n",
       "        vertical-align: middle;\n",
       "    }\n",
       "\n",
       "    .dataframe tbody tr th {\n",
       "        vertical-align: top;\n",
       "    }\n",
       "\n",
       "    .dataframe thead th {\n",
       "        text-align: right;\n",
       "    }\n",
       "</style>\n",
       "<table border=\"1\" class=\"dataframe\">\n",
       "  <thead>\n",
       "    <tr style=\"text-align: right;\">\n",
       "      <th></th>\n",
       "      <th>0</th>\n",
       "      <th>1</th>\n",
       "    </tr>\n",
       "  </thead>\n",
       "  <tbody>\n",
       "    <tr>\n",
       "      <th>0</th>\n",
       "      <td>execute_query</td>\n",
       "      <td>show_all_tables_in_database</td>\n",
       "    </tr>\n",
       "    <tr>\n",
       "      <th>1</th>\n",
       "      <td>get_conn</td>\n",
       "      <td>show_df_tables_first_value_and_dtype</td>\n",
       "    </tr>\n",
       "    <tr>\n",
       "      <th>2</th>\n",
       "      <td>get_dataframe_of_all_tables_and_all_columns</td>\n",
       "      <td>show_given_tables_info</td>\n",
       "    </tr>\n",
       "    <tr>\n",
       "      <th>3</th>\n",
       "      <td>get_pandas_dataframe</td>\n",
       "      <td>show_pandas_dataframes_list</td>\n",
       "    </tr>\n",
       "    <tr>\n",
       "      <th>4</th>\n",
       "      <td>get_postgres_configs</td>\n",
       "      <td></td>\n",
       "    </tr>\n",
       "  </tbody>\n",
       "</table>\n",
       "</div>"
      ],
      "text/plain": [
       "                                             0  \\\n",
       "0                                execute_query   \n",
       "1                                     get_conn   \n",
       "2  get_dataframe_of_all_tables_and_all_columns   \n",
       "3                         get_pandas_dataframe   \n",
       "4                         get_postgres_configs   \n",
       "\n",
       "                                      1  \n",
       "0           show_all_tables_in_database  \n",
       "1  show_df_tables_first_value_and_dtype  \n",
       "2                show_given_tables_info  \n",
       "3           show_pandas_dataframes_list  \n",
       "4                                        "
      ]
     },
     "execution_count": 18,
     "metadata": {},
     "output_type": "execute_result"
    }
   ],
   "source": [
    "item = util_database\n",
    "_ = [I for I in dir(item) if I[0].islower()]\n",
    "_ = [i for i in _ if i not in 'np os pd psycopg2 time'.split()]\n",
    "print(type(item))\n",
    "pd.DataFrame(np.array_split(_,2)).T.fillna('')"
   ]
  },
  {
   "cell_type": "markdown",
   "metadata": {},
   "source": [
    "# Show all table names in given database"
   ]
  },
  {
   "cell_type": "code",
   "execution_count": 4,
   "metadata": {
    "ExecuteTime": {
     "end_time": "2019-09-14T17:45:15.408091Z",
     "start_time": "2019-09-14T17:45:15.333868Z"
    }
   },
   "outputs": [
    {
     "name": "stdout",
     "output_type": "stream",
     "text": [
      "['actor', 'store', 'address', 'category', 'city', 'country', 'customer', 'film_actor', 'film_category', 'inventory', 'language', 'rental', 'staff', 'payment', 'film', 'employee', 'df', 'sales2007q1', 'sales2007q2', 'staffnew']\n"
     ]
    }
   ],
   "source": [
    "from util_database import show_all_tables_in_database\n",
    "show_all_tables_in_database('dvdrental')"
   ]
  },
  {
   "cell_type": "markdown",
   "metadata": {},
   "source": [
    "# Show given table's info"
   ]
  },
  {
   "cell_type": "code",
   "execution_count": 5,
   "metadata": {
    "ExecuteTime": {
     "end_time": "2019-09-14T17:45:15.439722Z",
     "start_time": "2019-09-14T17:45:15.410830Z"
    }
   },
   "outputs": [
    {
     "data": {
      "text/html": [
       "<div>\n",
       "<style scoped>\n",
       "    .dataframe tbody tr th:only-of-type {\n",
       "        vertical-align: middle;\n",
       "    }\n",
       "\n",
       "    .dataframe tbody tr th {\n",
       "        vertical-align: top;\n",
       "    }\n",
       "\n",
       "    .dataframe thead th {\n",
       "        text-align: right;\n",
       "    }\n",
       "</style>\n",
       "<table border=\"1\" class=\"dataframe\">\n",
       "  <thead>\n",
       "    <tr style=\"text-align: right;\">\n",
       "      <th></th>\n",
       "      <th>column_name</th>\n",
       "      <th>data_type</th>\n",
       "      <th>character_maximum_length</th>\n",
       "    </tr>\n",
       "  </thead>\n",
       "  <tbody>\n",
       "    <tr>\n",
       "      <th>0</th>\n",
       "      <td>customer_id</td>\n",
       "      <td>integer</td>\n",
       "      <td></td>\n",
       "    </tr>\n",
       "    <tr>\n",
       "      <th>1</th>\n",
       "      <td>store_id</td>\n",
       "      <td>smallint</td>\n",
       "      <td></td>\n",
       "    </tr>\n",
       "    <tr>\n",
       "      <th>2</th>\n",
       "      <td>first_name</td>\n",
       "      <td>character varying</td>\n",
       "      <td>45</td>\n",
       "    </tr>\n",
       "    <tr>\n",
       "      <th>3</th>\n",
       "      <td>last_name</td>\n",
       "      <td>character varying</td>\n",
       "      <td>45</td>\n",
       "    </tr>\n",
       "    <tr>\n",
       "      <th>4</th>\n",
       "      <td>email</td>\n",
       "      <td>character varying</td>\n",
       "      <td>50</td>\n",
       "    </tr>\n",
       "    <tr>\n",
       "      <th>5</th>\n",
       "      <td>address_id</td>\n",
       "      <td>smallint</td>\n",
       "      <td></td>\n",
       "    </tr>\n",
       "    <tr>\n",
       "      <th>6</th>\n",
       "      <td>activebool</td>\n",
       "      <td>boolean</td>\n",
       "      <td></td>\n",
       "    </tr>\n",
       "    <tr>\n",
       "      <th>7</th>\n",
       "      <td>create_date</td>\n",
       "      <td>date</td>\n",
       "      <td></td>\n",
       "    </tr>\n",
       "    <tr>\n",
       "      <th>8</th>\n",
       "      <td>last_update</td>\n",
       "      <td>timestamp without time zone</td>\n",
       "      <td></td>\n",
       "    </tr>\n",
       "    <tr>\n",
       "      <th>9</th>\n",
       "      <td>active</td>\n",
       "      <td>integer</td>\n",
       "      <td></td>\n",
       "    </tr>\n",
       "  </tbody>\n",
       "</table>\n",
       "</div>"
      ],
      "text/plain": [
       "   column_name                    data_type character_maximum_length\n",
       "0  customer_id                      integer                         \n",
       "1     store_id                     smallint                         \n",
       "2   first_name            character varying                       45\n",
       "3    last_name            character varying                       45\n",
       "4        email            character varying                       50\n",
       "5   address_id                     smallint                         \n",
       "6   activebool                      boolean                         \n",
       "7  create_date                         date                         \n",
       "8  last_update  timestamp without time zone                         \n",
       "9       active                      integer                         "
      ]
     },
     "execution_count": 5,
     "metadata": {},
     "output_type": "execute_result"
    }
   ],
   "source": [
    "from util_database import show_given_tables_info\n",
    "show_given_tables_info(dbname, 'customer')"
   ]
  },
  {
   "cell_type": "markdown",
   "metadata": {},
   "source": [
    "# Get pandas dataframe"
   ]
  },
  {
   "cell_type": "code",
   "execution_count": 6,
   "metadata": {
    "ExecuteTime": {
     "end_time": "2019-09-14T17:45:15.463505Z",
     "start_time": "2019-09-14T17:45:15.441614Z"
    }
   },
   "outputs": [],
   "source": [
    "customer = get_pandas_dataframe(dbname, 'customer')"
   ]
  },
  {
   "cell_type": "code",
   "execution_count": 7,
   "metadata": {
    "ExecuteTime": {
     "end_time": "2019-09-14T17:45:15.480508Z",
     "start_time": "2019-09-14T17:45:15.466061Z"
    }
   },
   "outputs": [
    {
     "data": {
      "text/html": [
       "<div>\n",
       "<style scoped>\n",
       "    .dataframe tbody tr th:only-of-type {\n",
       "        vertical-align: middle;\n",
       "    }\n",
       "\n",
       "    .dataframe tbody tr th {\n",
       "        vertical-align: top;\n",
       "    }\n",
       "\n",
       "    .dataframe thead th {\n",
       "        text-align: right;\n",
       "    }\n",
       "</style>\n",
       "<table border=\"1\" class=\"dataframe\">\n",
       "  <thead>\n",
       "    <tr style=\"text-align: right;\">\n",
       "      <th></th>\n",
       "      <th>customer_id</th>\n",
       "      <th>store_id</th>\n",
       "      <th>first_name</th>\n",
       "      <th>last_name</th>\n",
       "      <th>email</th>\n",
       "      <th>address_id</th>\n",
       "      <th>activebool</th>\n",
       "      <th>create_date</th>\n",
       "      <th>last_update</th>\n",
       "      <th>active</th>\n",
       "    </tr>\n",
       "  </thead>\n",
       "  <tbody>\n",
       "    <tr>\n",
       "      <th>0</th>\n",
       "      <td>524</td>\n",
       "      <td>1</td>\n",
       "      <td>Jared</td>\n",
       "      <td>Ely</td>\n",
       "      <td>jared.ely@sakilacustomer.org</td>\n",
       "      <td>530</td>\n",
       "      <td>True</td>\n",
       "      <td>2006-02-14</td>\n",
       "      <td>2013-05-26 14:49:45.738</td>\n",
       "      <td>1</td>\n",
       "    </tr>\n",
       "    <tr>\n",
       "      <th>1</th>\n",
       "      <td>1</td>\n",
       "      <td>1</td>\n",
       "      <td>Mary</td>\n",
       "      <td>Smith</td>\n",
       "      <td>mary.smith@sakilacustomer.org</td>\n",
       "      <td>5</td>\n",
       "      <td>True</td>\n",
       "      <td>2006-02-14</td>\n",
       "      <td>2013-05-26 14:49:45.738</td>\n",
       "      <td>1</td>\n",
       "    </tr>\n",
       "    <tr>\n",
       "      <th>2</th>\n",
       "      <td>2</td>\n",
       "      <td>1</td>\n",
       "      <td>Patricia</td>\n",
       "      <td>Johnson</td>\n",
       "      <td>patricia.johnson@sakilacustomer.org</td>\n",
       "      <td>6</td>\n",
       "      <td>True</td>\n",
       "      <td>2006-02-14</td>\n",
       "      <td>2013-05-26 14:49:45.738</td>\n",
       "      <td>1</td>\n",
       "    </tr>\n",
       "    <tr>\n",
       "      <th>3</th>\n",
       "      <td>3</td>\n",
       "      <td>1</td>\n",
       "      <td>Linda</td>\n",
       "      <td>Williams</td>\n",
       "      <td>linda.williams@sakilacustomer.org</td>\n",
       "      <td>7</td>\n",
       "      <td>True</td>\n",
       "      <td>2006-02-14</td>\n",
       "      <td>2013-05-26 14:49:45.738</td>\n",
       "      <td>1</td>\n",
       "    </tr>\n",
       "    <tr>\n",
       "      <th>4</th>\n",
       "      <td>4</td>\n",
       "      <td>2</td>\n",
       "      <td>Barbara</td>\n",
       "      <td>Jones</td>\n",
       "      <td>barbara.jones@sakilacustomer.org</td>\n",
       "      <td>8</td>\n",
       "      <td>True</td>\n",
       "      <td>2006-02-14</td>\n",
       "      <td>2013-05-26 14:49:45.738</td>\n",
       "      <td>1</td>\n",
       "    </tr>\n",
       "  </tbody>\n",
       "</table>\n",
       "</div>"
      ],
      "text/plain": [
       "   customer_id  store_id first_name last_name  \\\n",
       "0          524         1      Jared       Ely   \n",
       "1            1         1       Mary     Smith   \n",
       "2            2         1   Patricia   Johnson   \n",
       "3            3         1      Linda  Williams   \n",
       "4            4         2    Barbara     Jones   \n",
       "\n",
       "                                 email  address_id  activebool create_date  \\\n",
       "0         jared.ely@sakilacustomer.org         530        True  2006-02-14   \n",
       "1        mary.smith@sakilacustomer.org           5        True  2006-02-14   \n",
       "2  patricia.johnson@sakilacustomer.org           6        True  2006-02-14   \n",
       "3    linda.williams@sakilacustomer.org           7        True  2006-02-14   \n",
       "4     barbara.jones@sakilacustomer.org           8        True  2006-02-14   \n",
       "\n",
       "              last_update  active  \n",
       "0 2013-05-26 14:49:45.738       1  \n",
       "1 2013-05-26 14:49:45.738       1  \n",
       "2 2013-05-26 14:49:45.738       1  \n",
       "3 2013-05-26 14:49:45.738       1  \n",
       "4 2013-05-26 14:49:45.738       1  "
      ]
     },
     "execution_count": 7,
     "metadata": {},
     "output_type": "execute_result"
    }
   ],
   "source": [
    "customer.head()"
   ]
  },
  {
   "cell_type": "markdown",
   "metadata": {},
   "source": [
    "# Make dataframes columns dtype good"
   ]
  },
  {
   "cell_type": "code",
   "execution_count": 8,
   "metadata": {
    "ExecuteTime": {
     "end_time": "2019-09-14T17:45:15.507643Z",
     "start_time": "2019-09-14T17:45:15.486738Z"
    }
   },
   "outputs": [
    {
     "name": "stdout",
     "output_type": "stream",
     "text": [
      "['actor', 'store', 'address', 'category', 'city', 'country', 'customer', 'film_actor', 'film_category', 'inventory', 'language', 'rental', 'staff', 'payment', 'film', 'employee', 'df', 'sales2007q1', 'sales2007q2', 'staffnew']\n"
     ]
    }
   ],
   "source": [
    "show_all_tables_in_database('dvdrental')"
   ]
  },
  {
   "cell_type": "code",
   "execution_count": 9,
   "metadata": {
    "ExecuteTime": {
     "end_time": "2019-09-14T17:45:15.516976Z",
     "start_time": "2019-09-14T17:45:15.512257Z"
    }
   },
   "outputs": [],
   "source": [
    "tables_names = ['actor', 'store', 'address', 'category', 'city', 'country', 'customer', 'film_actor', 'film_category', 'inventory', 'language', 'rental', 'staff', 'payment', 'film']"
   ]
  },
  {
   "cell_type": "code",
   "execution_count": 10,
   "metadata": {
    "ExecuteTime": {
     "end_time": "2019-09-14T17:45:15.564333Z",
     "start_time": "2019-09-14T17:45:15.519536Z"
    }
   },
   "outputs": [],
   "source": [
    "from util_database import show_pandas_dataframes_list"
   ]
  },
  {
   "cell_type": "code",
   "execution_count": 11,
   "metadata": {
    "ExecuteTime": {
     "end_time": "2019-09-14T17:45:15.950641Z",
     "start_time": "2019-09-14T17:45:15.575565Z"
    }
   },
   "outputs": [],
   "source": [
    "(actor, store, address, category, city, country,\n",
    " customer, film_actor, film_category, inventory,\n",
    " language, rental, staff, payment, film) = [get_pandas_dataframe(dbname, i)\n",
    "                                           for i in tables_names]\n",
    "\n",
    "df_tables = [actor, store, address, category, city, country, customer, film_actor, film_category, inventory, language, rental, staff, payment, film ]"
   ]
  },
  {
   "cell_type": "code",
   "execution_count": 12,
   "metadata": {
    "ExecuteTime": {
     "end_time": "2019-09-14T17:45:15.961868Z",
     "start_time": "2019-09-14T17:45:15.952432Z"
    }
   },
   "outputs": [
    {
     "data": {
      "text/plain": [
       "15"
      ]
     },
     "execution_count": 12,
     "metadata": {},
     "output_type": "execute_result"
    }
   ],
   "source": [
    "len(df_tables)"
   ]
  },
  {
   "cell_type": "code",
   "execution_count": 13,
   "metadata": {
    "ExecuteTime": {
     "end_time": "2019-09-14T17:45:15.969665Z",
     "start_time": "2019-09-14T17:45:15.964116Z"
    }
   },
   "outputs": [],
   "source": [
    "from util_database import show_df_tables_first_value_and_dtype"
   ]
  },
  {
   "cell_type": "code",
   "execution_count": 14,
   "metadata": {
    "ExecuteTime": {
     "end_time": "2019-09-14T17:45:16.503307Z",
     "start_time": "2019-09-14T17:45:15.972823Z"
    }
   },
   "outputs": [
    {
     "data": {
      "text/html": [
       "<style  type=\"text/css\" >\n",
       "    #T_6973fba2_d717_11e9_a0a6_acde48001122row0_col0 {\n",
       "            background:  lightblue;\n",
       "        }    #T_6973fba2_d717_11e9_a0a6_acde48001122row0_col1 {\n",
       "            background:  lightblue;\n",
       "        }    #T_6973fba2_d717_11e9_a0a6_acde48001122row2_col0 {\n",
       "            background:  lightblue;\n",
       "        }    #T_6973fba2_d717_11e9_a0a6_acde48001122row2_col1 {\n",
       "            background:  lightblue;\n",
       "        }    #T_6973fba2_d717_11e9_a0a6_acde48001122row6_col0 {\n",
       "            background:  lightblue;\n",
       "        }    #T_6973fba2_d717_11e9_a0a6_acde48001122row6_col1 {\n",
       "            background:  lightblue;\n",
       "        }    #T_6973fba2_d717_11e9_a0a6_acde48001122row11_col0 {\n",
       "            background:  lightblue;\n",
       "        }    #T_6973fba2_d717_11e9_a0a6_acde48001122row11_col1 {\n",
       "            background:  lightblue;\n",
       "        }    #T_6973fba2_d717_11e9_a0a6_acde48001122row12_col0 {\n",
       "            background:  lightblue;\n",
       "        }    #T_6973fba2_d717_11e9_a0a6_acde48001122row12_col1 {\n",
       "            background:  lightblue;\n",
       "        }</style><table id=\"T_6973fba2_d717_11e9_a0a6_acde48001122\" ><caption>Dataframe name: film</caption><thead>    <tr>        <th class=\"blank level0\" ></th>        <th class=\"col_heading level0 col0\" >value</th>        <th class=\"col_heading level0 col1\" >dtype</th>    </tr></thead><tbody>\n",
       "                <tr>\n",
       "                        <th id=\"T_6973fba2_d717_11e9_a0a6_acde48001122level0_row0\" class=\"row_heading level0 row0\" >description</th>\n",
       "                        <td id=\"T_6973fba2_d717_11e9_a0a6_acde48001122row0_col0\" class=\"data row0 col0\" >A Fateful Reflection of a Moose And a Husband who must Overcome a Monkey in Nigeria</td>\n",
       "                        <td id=\"T_6973fba2_d717_11e9_a0a6_acde48001122row0_col1\" class=\"data row0 col1\" >object</td>\n",
       "            </tr>\n",
       "            <tr>\n",
       "                        <th id=\"T_6973fba2_d717_11e9_a0a6_acde48001122level0_row1\" class=\"row_heading level0 row1\" >film_id</th>\n",
       "                        <td id=\"T_6973fba2_d717_11e9_a0a6_acde48001122row1_col0\" class=\"data row1 col0\" >133</td>\n",
       "                        <td id=\"T_6973fba2_d717_11e9_a0a6_acde48001122row1_col1\" class=\"data row1 col1\" >int64</td>\n",
       "            </tr>\n",
       "            <tr>\n",
       "                        <th id=\"T_6973fba2_d717_11e9_a0a6_acde48001122level0_row2\" class=\"row_heading level0 row2\" >fulltext</th>\n",
       "                        <td id=\"T_6973fba2_d717_11e9_a0a6_acde48001122row2_col0\" class=\"data row2 col0\" >'chamber':1 'fate':4 'husband':11 'italian':2 'monkey':16 'moos':8 'must':13 'nigeria':18 'overcom':14 'reflect':5</td>\n",
       "                        <td id=\"T_6973fba2_d717_11e9_a0a6_acde48001122row2_col1\" class=\"data row2 col1\" >object</td>\n",
       "            </tr>\n",
       "            <tr>\n",
       "                        <th id=\"T_6973fba2_d717_11e9_a0a6_acde48001122level0_row3\" class=\"row_heading level0 row3\" >language_id</th>\n",
       "                        <td id=\"T_6973fba2_d717_11e9_a0a6_acde48001122row3_col0\" class=\"data row3 col0\" >1</td>\n",
       "                        <td id=\"T_6973fba2_d717_11e9_a0a6_acde48001122row3_col1\" class=\"data row3 col1\" >int64</td>\n",
       "            </tr>\n",
       "            <tr>\n",
       "                        <th id=\"T_6973fba2_d717_11e9_a0a6_acde48001122level0_row4\" class=\"row_heading level0 row4\" >last_update</th>\n",
       "                        <td id=\"T_6973fba2_d717_11e9_a0a6_acde48001122row4_col0\" class=\"data row4 col0\" >2013-05-26 14:50:58.951000</td>\n",
       "                        <td id=\"T_6973fba2_d717_11e9_a0a6_acde48001122row4_col1\" class=\"data row4 col1\" >datetime64[ns]</td>\n",
       "            </tr>\n",
       "            <tr>\n",
       "                        <th id=\"T_6973fba2_d717_11e9_a0a6_acde48001122level0_row5\" class=\"row_heading level0 row5\" >length</th>\n",
       "                        <td id=\"T_6973fba2_d717_11e9_a0a6_acde48001122row5_col0\" class=\"data row5 col0\" >117</td>\n",
       "                        <td id=\"T_6973fba2_d717_11e9_a0a6_acde48001122row5_col1\" class=\"data row5 col1\" >int64</td>\n",
       "            </tr>\n",
       "            <tr>\n",
       "                        <th id=\"T_6973fba2_d717_11e9_a0a6_acde48001122level0_row6\" class=\"row_heading level0 row6\" >rating</th>\n",
       "                        <td id=\"T_6973fba2_d717_11e9_a0a6_acde48001122row6_col0\" class=\"data row6 col0\" >NC-17</td>\n",
       "                        <td id=\"T_6973fba2_d717_11e9_a0a6_acde48001122row6_col1\" class=\"data row6 col1\" >object</td>\n",
       "            </tr>\n",
       "            <tr>\n",
       "                        <th id=\"T_6973fba2_d717_11e9_a0a6_acde48001122level0_row7\" class=\"row_heading level0 row7\" >release_year</th>\n",
       "                        <td id=\"T_6973fba2_d717_11e9_a0a6_acde48001122row7_col0\" class=\"data row7 col0\" >2006</td>\n",
       "                        <td id=\"T_6973fba2_d717_11e9_a0a6_acde48001122row7_col1\" class=\"data row7 col1\" >int64</td>\n",
       "            </tr>\n",
       "            <tr>\n",
       "                        <th id=\"T_6973fba2_d717_11e9_a0a6_acde48001122level0_row8\" class=\"row_heading level0 row8\" >rental_duration</th>\n",
       "                        <td id=\"T_6973fba2_d717_11e9_a0a6_acde48001122row8_col0\" class=\"data row8 col0\" >7</td>\n",
       "                        <td id=\"T_6973fba2_d717_11e9_a0a6_acde48001122row8_col1\" class=\"data row8 col1\" >int64</td>\n",
       "            </tr>\n",
       "            <tr>\n",
       "                        <th id=\"T_6973fba2_d717_11e9_a0a6_acde48001122level0_row9\" class=\"row_heading level0 row9\" >rental_rate</th>\n",
       "                        <td id=\"T_6973fba2_d717_11e9_a0a6_acde48001122row9_col0\" class=\"data row9 col0\" >4.99</td>\n",
       "                        <td id=\"T_6973fba2_d717_11e9_a0a6_acde48001122row9_col1\" class=\"data row9 col1\" >float64</td>\n",
       "            </tr>\n",
       "            <tr>\n",
       "                        <th id=\"T_6973fba2_d717_11e9_a0a6_acde48001122level0_row10\" class=\"row_heading level0 row10\" >replacement_cost</th>\n",
       "                        <td id=\"T_6973fba2_d717_11e9_a0a6_acde48001122row10_col0\" class=\"data row10 col0\" >14.99</td>\n",
       "                        <td id=\"T_6973fba2_d717_11e9_a0a6_acde48001122row10_col1\" class=\"data row10 col1\" >float64</td>\n",
       "            </tr>\n",
       "            <tr>\n",
       "                        <th id=\"T_6973fba2_d717_11e9_a0a6_acde48001122level0_row11\" class=\"row_heading level0 row11\" >special_features</th>\n",
       "                        <td id=\"T_6973fba2_d717_11e9_a0a6_acde48001122row11_col0\" class=\"data row11 col0\" >['Trailers']</td>\n",
       "                        <td id=\"T_6973fba2_d717_11e9_a0a6_acde48001122row11_col1\" class=\"data row11 col1\" >object</td>\n",
       "            </tr>\n",
       "            <tr>\n",
       "                        <th id=\"T_6973fba2_d717_11e9_a0a6_acde48001122level0_row12\" class=\"row_heading level0 row12\" >title</th>\n",
       "                        <td id=\"T_6973fba2_d717_11e9_a0a6_acde48001122row12_col0\" class=\"data row12 col0\" >Chamber Italian</td>\n",
       "                        <td id=\"T_6973fba2_d717_11e9_a0a6_acde48001122row12_col1\" class=\"data row12 col1\" >object</td>\n",
       "            </tr>\n",
       "    </tbody></table>"
      ],
      "text/plain": [
       "<pandas.io.formats.style.Styler at 0x118ffbeb8>"
      ]
     },
     "execution_count": 14,
     "metadata": {},
     "output_type": "execute_result"
    }
   ],
   "source": [
    "show_df_tables_first_value_and_dtype(df_tables, tables_names = tables_names, num=14)"
   ]
  },
  {
   "cell_type": "code",
   "execution_count": 15,
   "metadata": {
    "ExecuteTime": {
     "end_time": "2019-09-14T17:45:16.515332Z",
     "start_time": "2019-09-14T17:45:16.505653Z"
    }
   },
   "outputs": [],
   "source": [
    "customer['create_date'] = pd.to_datetime(customer.create_date, errors='coerce')"
   ]
  },
  {
   "cell_type": "markdown",
   "metadata": {},
   "source": [
    "# Create pandas dataframe of all tables and all columns"
   ]
  },
  {
   "cell_type": "code",
   "execution_count": 16,
   "metadata": {
    "ExecuteTime": {
     "end_time": "2019-09-14T17:45:16.594605Z",
     "start_time": "2019-09-14T17:45:16.518408Z"
    }
   },
   "outputs": [
    {
     "data": {
      "text/html": [
       "<style  type=\"text/css\" >\n",
       "    #T_69817d40_d717_11e9_a0a6_acde48001122row0_col0 {\n",
       "            background:  skyblue;\n",
       "        }    #T_69817d40_d717_11e9_a0a6_acde48001122row0_col1 {\n",
       "            background:  tomato;\n",
       "        }    #T_69817d40_d717_11e9_a0a6_acde48001122row0_col2 {\n",
       "            background:  khaki;\n",
       "        }    #T_69817d40_d717_11e9_a0a6_acde48001122row0_col3 {\n",
       "            background:  lightsteelblue;\n",
       "        }    #T_69817d40_d717_11e9_a0a6_acde48001122row0_col4 {\n",
       "            background:  lightgreen;\n",
       "        }    #T_69817d40_d717_11e9_a0a6_acde48001122row0_col5 {\n",
       "            background:  orangered;\n",
       "        }    #T_69817d40_d717_11e9_a0a6_acde48001122row0_col6 {\n",
       "            background:  orchid;\n",
       "        }    #T_69817d40_d717_11e9_a0a6_acde48001122row0_col7 {\n",
       "            background:  skyblue;\n",
       "        }    #T_69817d40_d717_11e9_a0a6_acde48001122row0_col8 {\n",
       "            background:  rosybrown;\n",
       "        }    #T_69817d40_d717_11e9_a0a6_acde48001122row0_col9 {\n",
       "            background:  salmon;\n",
       "        }    #T_69817d40_d717_11e9_a0a6_acde48001122row0_col10 {\n",
       "            background:  lavender;\n",
       "        }    #T_69817d40_d717_11e9_a0a6_acde48001122row0_col11 {\n",
       "            background:  plum;\n",
       "        }    #T_69817d40_d717_11e9_a0a6_acde48001122row0_col12 {\n",
       "            background:  mediumpurple;\n",
       "        }    #T_69817d40_d717_11e9_a0a6_acde48001122row0_col14 {\n",
       "            background:  rosybrown;\n",
       "        }    #T_69817d40_d717_11e9_a0a6_acde48001122row1_col0 {\n",
       "            background:  olive;\n",
       "        }    #T_69817d40_d717_11e9_a0a6_acde48001122row1_col3 {\n",
       "            background:  lightblue;\n",
       "        }    #T_69817d40_d717_11e9_a0a6_acde48001122row1_col6 {\n",
       "            background:  tomato;\n",
       "        }    #T_69817d40_d717_11e9_a0a6_acde48001122row1_col7 {\n",
       "            background:  rosybrown;\n",
       "        }    #T_69817d40_d717_11e9_a0a6_acde48001122row1_col8 {\n",
       "            background:  lightsteelblue;\n",
       "        }    #T_69817d40_d717_11e9_a0a6_acde48001122row1_col9 {\n",
       "            background:  rosybrown;\n",
       "        }    #T_69817d40_d717_11e9_a0a6_acde48001122row1_col10 {\n",
       "            background:  lightblue;\n",
       "        }    #T_69817d40_d717_11e9_a0a6_acde48001122row1_col12 {\n",
       "            background:  olive;\n",
       "        }    #T_69817d40_d717_11e9_a0a6_acde48001122row1_col13 {\n",
       "            background:  orchid;\n",
       "        }    #T_69817d40_d717_11e9_a0a6_acde48001122row2_col0 {\n",
       "            background:  gray;\n",
       "        }    #T_69817d40_d717_11e9_a0a6_acde48001122row2_col1 {\n",
       "            background:  khaki;\n",
       "        }    #T_69817d40_d717_11e9_a0a6_acde48001122row2_col3 {\n",
       "            background:  salmon;\n",
       "        }    #T_69817d40_d717_11e9_a0a6_acde48001122row2_col4 {\n",
       "            background:  orangered;\n",
       "        }    #T_69817d40_d717_11e9_a0a6_acde48001122row2_col5 {\n",
       "            background:  salmon;\n",
       "        }    #T_69817d40_d717_11e9_a0a6_acde48001122row2_col6 {\n",
       "            background:  olive;\n",
       "        }    #T_69817d40_d717_11e9_a0a6_acde48001122row2_col7 {\n",
       "            background:  salmon;\n",
       "        }    #T_69817d40_d717_11e9_a0a6_acde48001122row2_col8 {\n",
       "            background:  salmon;\n",
       "        }    #T_69817d40_d717_11e9_a0a6_acde48001122row2_col9 {\n",
       "            background:  tomato;\n",
       "        }    #T_69817d40_d717_11e9_a0a6_acde48001122row2_col10 {\n",
       "            background:  salmon;\n",
       "        }    #T_69817d40_d717_11e9_a0a6_acde48001122row2_col11 {\n",
       "            background:  salmon;\n",
       "        }    #T_69817d40_d717_11e9_a0a6_acde48001122row2_col12 {\n",
       "            background:  gray;\n",
       "        }    #T_69817d40_d717_11e9_a0a6_acde48001122row2_col13 {\n",
       "            background:  mediumpurple;\n",
       "        }    #T_69817d40_d717_11e9_a0a6_acde48001122row3_col0 {\n",
       "            background:  salmon;\n",
       "        }    #T_69817d40_d717_11e9_a0a6_acde48001122row3_col1 {\n",
       "            background:  salmon;\n",
       "        }    #T_69817d40_d717_11e9_a0a6_acde48001122row3_col4 {\n",
       "            background:  salmon;\n",
       "        }    #T_69817d40_d717_11e9_a0a6_acde48001122row3_col6 {\n",
       "            background:  gray;\n",
       "        }    #T_69817d40_d717_11e9_a0a6_acde48001122row3_col9 {\n",
       "            background:  salmon;\n",
       "        }    #T_69817d40_d717_11e9_a0a6_acde48001122row3_col11 {\n",
       "            background:  orchid;\n",
       "        }    #T_69817d40_d717_11e9_a0a6_acde48001122row3_col12 {\n",
       "            background:  khaki;\n",
       "        }    #T_69817d40_d717_11e9_a0a6_acde48001122row3_col13 {\n",
       "            background:  plum;\n",
       "        }    #T_69817d40_d717_11e9_a0a6_acde48001122row4_col2 {\n",
       "            background:  lightgreen;\n",
       "        }    #T_69817d40_d717_11e9_a0a6_acde48001122row4_col6 {\n",
       "            background:  khaki;\n",
       "        }    #T_69817d40_d717_11e9_a0a6_acde48001122row4_col12 {\n",
       "            background:  khaki;\n",
       "        }    #T_69817d40_d717_11e9_a0a6_acde48001122row4_col14 {\n",
       "            background:  lavender;\n",
       "        }    #T_69817d40_d717_11e9_a0a6_acde48001122row5_col6 {\n",
       "            background:  khaki;\n",
       "        }    #T_69817d40_d717_11e9_a0a6_acde48001122row5_col11 {\n",
       "            background:  mediumpurple;\n",
       "        }    #T_69817d40_d717_11e9_a0a6_acde48001122row5_col12 {\n",
       "            background:  tomato;\n",
       "        }    #T_69817d40_d717_11e9_a0a6_acde48001122row6_col11 {\n",
       "            background:  salmon;\n",
       "        }    #T_69817d40_d717_11e9_a0a6_acde48001122row6_col12 {\n",
       "            background:  orange;\n",
       "        }    #T_69817d40_d717_11e9_a0a6_acde48001122row7_col2 {\n",
       "            background:  salmon;\n",
       "        }    #T_69817d40_d717_11e9_a0a6_acde48001122row8_col6 {\n",
       "            background:  salmon;\n",
       "        }    #T_69817d40_d717_11e9_a0a6_acde48001122row9_col6 {\n",
       "            background:  orange;\n",
       "        }    #T_69817d40_d717_11e9_a0a6_acde48001122row9_col12 {\n",
       "            background:  salmon;\n",
       "        }    #T_69817d40_d717_11e9_a0a6_acde48001122row10_col14 {\n",
       "            background:  salmon;\n",
       "        }</style><table id=\"T_69817d40_d717_11e9_a0a6_acde48001122\" ><thead>    <tr>        <th class=\"blank level0\" ></th>        <th class=\"col_heading level0 col0\" >actor</th>        <th class=\"col_heading level0 col1\" >store</th>        <th class=\"col_heading level0 col2\" >address</th>        <th class=\"col_heading level0 col3\" >category</th>        <th class=\"col_heading level0 col4\" >city</th>        <th class=\"col_heading level0 col5\" >country</th>        <th class=\"col_heading level0 col6\" >customer</th>        <th class=\"col_heading level0 col7\" >film_actor</th>        <th class=\"col_heading level0 col8\" >film_category</th>        <th class=\"col_heading level0 col9\" >inventory</th>        <th class=\"col_heading level0 col10\" >language</th>        <th class=\"col_heading level0 col11\" >rental</th>        <th class=\"col_heading level0 col12\" >staff</th>        <th class=\"col_heading level0 col13\" >payment</th>        <th class=\"col_heading level0 col14\" >film</th>    </tr></thead><tbody>\n",
       "                <tr>\n",
       "                        <th id=\"T_69817d40_d717_11e9_a0a6_acde48001122level0_row0\" class=\"row_heading level0 row0\" >0</th>\n",
       "                        <td id=\"T_69817d40_d717_11e9_a0a6_acde48001122row0_col0\" class=\"data row0 col0\" >actor_id</td>\n",
       "                        <td id=\"T_69817d40_d717_11e9_a0a6_acde48001122row0_col1\" class=\"data row0 col1\" >store_id</td>\n",
       "                        <td id=\"T_69817d40_d717_11e9_a0a6_acde48001122row0_col2\" class=\"data row0 col2\" >address_id</td>\n",
       "                        <td id=\"T_69817d40_d717_11e9_a0a6_acde48001122row0_col3\" class=\"data row0 col3\" >category_id</td>\n",
       "                        <td id=\"T_69817d40_d717_11e9_a0a6_acde48001122row0_col4\" class=\"data row0 col4\" >city_id</td>\n",
       "                        <td id=\"T_69817d40_d717_11e9_a0a6_acde48001122row0_col5\" class=\"data row0 col5\" >country_id</td>\n",
       "                        <td id=\"T_69817d40_d717_11e9_a0a6_acde48001122row0_col6\" class=\"data row0 col6\" >customer_id</td>\n",
       "                        <td id=\"T_69817d40_d717_11e9_a0a6_acde48001122row0_col7\" class=\"data row0 col7\" >actor_id</td>\n",
       "                        <td id=\"T_69817d40_d717_11e9_a0a6_acde48001122row0_col8\" class=\"data row0 col8\" >film_id</td>\n",
       "                        <td id=\"T_69817d40_d717_11e9_a0a6_acde48001122row0_col9\" class=\"data row0 col9\" >inventory_id</td>\n",
       "                        <td id=\"T_69817d40_d717_11e9_a0a6_acde48001122row0_col10\" class=\"data row0 col10\" >language_id</td>\n",
       "                        <td id=\"T_69817d40_d717_11e9_a0a6_acde48001122row0_col11\" class=\"data row0 col11\" >rental_id</td>\n",
       "                        <td id=\"T_69817d40_d717_11e9_a0a6_acde48001122row0_col12\" class=\"data row0 col12\" >staff_id</td>\n",
       "                        <td id=\"T_69817d40_d717_11e9_a0a6_acde48001122row0_col13\" class=\"data row0 col13\" >payment_id</td>\n",
       "                        <td id=\"T_69817d40_d717_11e9_a0a6_acde48001122row0_col14\" class=\"data row0 col14\" >film_id</td>\n",
       "            </tr>\n",
       "            <tr>\n",
       "                        <th id=\"T_69817d40_d717_11e9_a0a6_acde48001122level0_row1\" class=\"row_heading level0 row1\" >1</th>\n",
       "                        <td id=\"T_69817d40_d717_11e9_a0a6_acde48001122row1_col0\" class=\"data row1 col0\" >first_name</td>\n",
       "                        <td id=\"T_69817d40_d717_11e9_a0a6_acde48001122row1_col1\" class=\"data row1 col1\" >manager_staff_id</td>\n",
       "                        <td id=\"T_69817d40_d717_11e9_a0a6_acde48001122row1_col2\" class=\"data row1 col2\" >address</td>\n",
       "                        <td id=\"T_69817d40_d717_11e9_a0a6_acde48001122row1_col3\" class=\"data row1 col3\" >name</td>\n",
       "                        <td id=\"T_69817d40_d717_11e9_a0a6_acde48001122row1_col4\" class=\"data row1 col4\" >city</td>\n",
       "                        <td id=\"T_69817d40_d717_11e9_a0a6_acde48001122row1_col5\" class=\"data row1 col5\" >country</td>\n",
       "                        <td id=\"T_69817d40_d717_11e9_a0a6_acde48001122row1_col6\" class=\"data row1 col6\" >store_id</td>\n",
       "                        <td id=\"T_69817d40_d717_11e9_a0a6_acde48001122row1_col7\" class=\"data row1 col7\" >film_id</td>\n",
       "                        <td id=\"T_69817d40_d717_11e9_a0a6_acde48001122row1_col8\" class=\"data row1 col8\" >category_id</td>\n",
       "                        <td id=\"T_69817d40_d717_11e9_a0a6_acde48001122row1_col9\" class=\"data row1 col9\" >film_id</td>\n",
       "                        <td id=\"T_69817d40_d717_11e9_a0a6_acde48001122row1_col10\" class=\"data row1 col10\" >name</td>\n",
       "                        <td id=\"T_69817d40_d717_11e9_a0a6_acde48001122row1_col11\" class=\"data row1 col11\" >rental_date</td>\n",
       "                        <td id=\"T_69817d40_d717_11e9_a0a6_acde48001122row1_col12\" class=\"data row1 col12\" >first_name</td>\n",
       "                        <td id=\"T_69817d40_d717_11e9_a0a6_acde48001122row1_col13\" class=\"data row1 col13\" >customer_id</td>\n",
       "                        <td id=\"T_69817d40_d717_11e9_a0a6_acde48001122row1_col14\" class=\"data row1 col14\" >title</td>\n",
       "            </tr>\n",
       "            <tr>\n",
       "                        <th id=\"T_69817d40_d717_11e9_a0a6_acde48001122level0_row2\" class=\"row_heading level0 row2\" >2</th>\n",
       "                        <td id=\"T_69817d40_d717_11e9_a0a6_acde48001122row2_col0\" class=\"data row2 col0\" >last_name</td>\n",
       "                        <td id=\"T_69817d40_d717_11e9_a0a6_acde48001122row2_col1\" class=\"data row2 col1\" >address_id</td>\n",
       "                        <td id=\"T_69817d40_d717_11e9_a0a6_acde48001122row2_col2\" class=\"data row2 col2\" >address2</td>\n",
       "                        <td id=\"T_69817d40_d717_11e9_a0a6_acde48001122row2_col3\" class=\"data row2 col3\" >last_update</td>\n",
       "                        <td id=\"T_69817d40_d717_11e9_a0a6_acde48001122row2_col4\" class=\"data row2 col4\" >country_id</td>\n",
       "                        <td id=\"T_69817d40_d717_11e9_a0a6_acde48001122row2_col5\" class=\"data row2 col5\" >last_update</td>\n",
       "                        <td id=\"T_69817d40_d717_11e9_a0a6_acde48001122row2_col6\" class=\"data row2 col6\" >first_name</td>\n",
       "                        <td id=\"T_69817d40_d717_11e9_a0a6_acde48001122row2_col7\" class=\"data row2 col7\" >last_update</td>\n",
       "                        <td id=\"T_69817d40_d717_11e9_a0a6_acde48001122row2_col8\" class=\"data row2 col8\" >last_update</td>\n",
       "                        <td id=\"T_69817d40_d717_11e9_a0a6_acde48001122row2_col9\" class=\"data row2 col9\" >store_id</td>\n",
       "                        <td id=\"T_69817d40_d717_11e9_a0a6_acde48001122row2_col10\" class=\"data row2 col10\" >last_update</td>\n",
       "                        <td id=\"T_69817d40_d717_11e9_a0a6_acde48001122row2_col11\" class=\"data row2 col11\" >inventory_id</td>\n",
       "                        <td id=\"T_69817d40_d717_11e9_a0a6_acde48001122row2_col12\" class=\"data row2 col12\" >last_name</td>\n",
       "                        <td id=\"T_69817d40_d717_11e9_a0a6_acde48001122row2_col13\" class=\"data row2 col13\" >staff_id</td>\n",
       "                        <td id=\"T_69817d40_d717_11e9_a0a6_acde48001122row2_col14\" class=\"data row2 col14\" >description</td>\n",
       "            </tr>\n",
       "            <tr>\n",
       "                        <th id=\"T_69817d40_d717_11e9_a0a6_acde48001122level0_row3\" class=\"row_heading level0 row3\" >3</th>\n",
       "                        <td id=\"T_69817d40_d717_11e9_a0a6_acde48001122row3_col0\" class=\"data row3 col0\" >last_update</td>\n",
       "                        <td id=\"T_69817d40_d717_11e9_a0a6_acde48001122row3_col1\" class=\"data row3 col1\" >last_update</td>\n",
       "                        <td id=\"T_69817d40_d717_11e9_a0a6_acde48001122row3_col2\" class=\"data row3 col2\" >district</td>\n",
       "                        <td id=\"T_69817d40_d717_11e9_a0a6_acde48001122row3_col3\" class=\"data row3 col3\" ></td>\n",
       "                        <td id=\"T_69817d40_d717_11e9_a0a6_acde48001122row3_col4\" class=\"data row3 col4\" >last_update</td>\n",
       "                        <td id=\"T_69817d40_d717_11e9_a0a6_acde48001122row3_col5\" class=\"data row3 col5\" ></td>\n",
       "                        <td id=\"T_69817d40_d717_11e9_a0a6_acde48001122row3_col6\" class=\"data row3 col6\" >last_name</td>\n",
       "                        <td id=\"T_69817d40_d717_11e9_a0a6_acde48001122row3_col7\" class=\"data row3 col7\" ></td>\n",
       "                        <td id=\"T_69817d40_d717_11e9_a0a6_acde48001122row3_col8\" class=\"data row3 col8\" ></td>\n",
       "                        <td id=\"T_69817d40_d717_11e9_a0a6_acde48001122row3_col9\" class=\"data row3 col9\" >last_update</td>\n",
       "                        <td id=\"T_69817d40_d717_11e9_a0a6_acde48001122row3_col10\" class=\"data row3 col10\" ></td>\n",
       "                        <td id=\"T_69817d40_d717_11e9_a0a6_acde48001122row3_col11\" class=\"data row3 col11\" >customer_id</td>\n",
       "                        <td id=\"T_69817d40_d717_11e9_a0a6_acde48001122row3_col12\" class=\"data row3 col12\" >address_id</td>\n",
       "                        <td id=\"T_69817d40_d717_11e9_a0a6_acde48001122row3_col13\" class=\"data row3 col13\" >rental_id</td>\n",
       "                        <td id=\"T_69817d40_d717_11e9_a0a6_acde48001122row3_col14\" class=\"data row3 col14\" >release_year</td>\n",
       "            </tr>\n",
       "            <tr>\n",
       "                        <th id=\"T_69817d40_d717_11e9_a0a6_acde48001122level0_row4\" class=\"row_heading level0 row4\" >4</th>\n",
       "                        <td id=\"T_69817d40_d717_11e9_a0a6_acde48001122row4_col0\" class=\"data row4 col0\" ></td>\n",
       "                        <td id=\"T_69817d40_d717_11e9_a0a6_acde48001122row4_col1\" class=\"data row4 col1\" ></td>\n",
       "                        <td id=\"T_69817d40_d717_11e9_a0a6_acde48001122row4_col2\" class=\"data row4 col2\" >city_id</td>\n",
       "                        <td id=\"T_69817d40_d717_11e9_a0a6_acde48001122row4_col3\" class=\"data row4 col3\" ></td>\n",
       "                        <td id=\"T_69817d40_d717_11e9_a0a6_acde48001122row4_col4\" class=\"data row4 col4\" ></td>\n",
       "                        <td id=\"T_69817d40_d717_11e9_a0a6_acde48001122row4_col5\" class=\"data row4 col5\" ></td>\n",
       "                        <td id=\"T_69817d40_d717_11e9_a0a6_acde48001122row4_col6\" class=\"data row4 col6\" >email</td>\n",
       "                        <td id=\"T_69817d40_d717_11e9_a0a6_acde48001122row4_col7\" class=\"data row4 col7\" ></td>\n",
       "                        <td id=\"T_69817d40_d717_11e9_a0a6_acde48001122row4_col8\" class=\"data row4 col8\" ></td>\n",
       "                        <td id=\"T_69817d40_d717_11e9_a0a6_acde48001122row4_col9\" class=\"data row4 col9\" ></td>\n",
       "                        <td id=\"T_69817d40_d717_11e9_a0a6_acde48001122row4_col10\" class=\"data row4 col10\" ></td>\n",
       "                        <td id=\"T_69817d40_d717_11e9_a0a6_acde48001122row4_col11\" class=\"data row4 col11\" >return_date</td>\n",
       "                        <td id=\"T_69817d40_d717_11e9_a0a6_acde48001122row4_col12\" class=\"data row4 col12\" >email</td>\n",
       "                        <td id=\"T_69817d40_d717_11e9_a0a6_acde48001122row4_col13\" class=\"data row4 col13\" >amount</td>\n",
       "                        <td id=\"T_69817d40_d717_11e9_a0a6_acde48001122row4_col14\" class=\"data row4 col14\" >language_id</td>\n",
       "            </tr>\n",
       "            <tr>\n",
       "                        <th id=\"T_69817d40_d717_11e9_a0a6_acde48001122level0_row5\" class=\"row_heading level0 row5\" >5</th>\n",
       "                        <td id=\"T_69817d40_d717_11e9_a0a6_acde48001122row5_col0\" class=\"data row5 col0\" ></td>\n",
       "                        <td id=\"T_69817d40_d717_11e9_a0a6_acde48001122row5_col1\" class=\"data row5 col1\" ></td>\n",
       "                        <td id=\"T_69817d40_d717_11e9_a0a6_acde48001122row5_col2\" class=\"data row5 col2\" >postal_code</td>\n",
       "                        <td id=\"T_69817d40_d717_11e9_a0a6_acde48001122row5_col3\" class=\"data row5 col3\" ></td>\n",
       "                        <td id=\"T_69817d40_d717_11e9_a0a6_acde48001122row5_col4\" class=\"data row5 col4\" ></td>\n",
       "                        <td id=\"T_69817d40_d717_11e9_a0a6_acde48001122row5_col5\" class=\"data row5 col5\" ></td>\n",
       "                        <td id=\"T_69817d40_d717_11e9_a0a6_acde48001122row5_col6\" class=\"data row5 col6\" >address_id</td>\n",
       "                        <td id=\"T_69817d40_d717_11e9_a0a6_acde48001122row5_col7\" class=\"data row5 col7\" ></td>\n",
       "                        <td id=\"T_69817d40_d717_11e9_a0a6_acde48001122row5_col8\" class=\"data row5 col8\" ></td>\n",
       "                        <td id=\"T_69817d40_d717_11e9_a0a6_acde48001122row5_col9\" class=\"data row5 col9\" ></td>\n",
       "                        <td id=\"T_69817d40_d717_11e9_a0a6_acde48001122row5_col10\" class=\"data row5 col10\" ></td>\n",
       "                        <td id=\"T_69817d40_d717_11e9_a0a6_acde48001122row5_col11\" class=\"data row5 col11\" >staff_id</td>\n",
       "                        <td id=\"T_69817d40_d717_11e9_a0a6_acde48001122row5_col12\" class=\"data row5 col12\" >store_id</td>\n",
       "                        <td id=\"T_69817d40_d717_11e9_a0a6_acde48001122row5_col13\" class=\"data row5 col13\" >payment_date</td>\n",
       "                        <td id=\"T_69817d40_d717_11e9_a0a6_acde48001122row5_col14\" class=\"data row5 col14\" >rental_duration</td>\n",
       "            </tr>\n",
       "            <tr>\n",
       "                        <th id=\"T_69817d40_d717_11e9_a0a6_acde48001122level0_row6\" class=\"row_heading level0 row6\" >6</th>\n",
       "                        <td id=\"T_69817d40_d717_11e9_a0a6_acde48001122row6_col0\" class=\"data row6 col0\" ></td>\n",
       "                        <td id=\"T_69817d40_d717_11e9_a0a6_acde48001122row6_col1\" class=\"data row6 col1\" ></td>\n",
       "                        <td id=\"T_69817d40_d717_11e9_a0a6_acde48001122row6_col2\" class=\"data row6 col2\" >phone</td>\n",
       "                        <td id=\"T_69817d40_d717_11e9_a0a6_acde48001122row6_col3\" class=\"data row6 col3\" ></td>\n",
       "                        <td id=\"T_69817d40_d717_11e9_a0a6_acde48001122row6_col4\" class=\"data row6 col4\" ></td>\n",
       "                        <td id=\"T_69817d40_d717_11e9_a0a6_acde48001122row6_col5\" class=\"data row6 col5\" ></td>\n",
       "                        <td id=\"T_69817d40_d717_11e9_a0a6_acde48001122row6_col6\" class=\"data row6 col6\" >activebool</td>\n",
       "                        <td id=\"T_69817d40_d717_11e9_a0a6_acde48001122row6_col7\" class=\"data row6 col7\" ></td>\n",
       "                        <td id=\"T_69817d40_d717_11e9_a0a6_acde48001122row6_col8\" class=\"data row6 col8\" ></td>\n",
       "                        <td id=\"T_69817d40_d717_11e9_a0a6_acde48001122row6_col9\" class=\"data row6 col9\" ></td>\n",
       "                        <td id=\"T_69817d40_d717_11e9_a0a6_acde48001122row6_col10\" class=\"data row6 col10\" ></td>\n",
       "                        <td id=\"T_69817d40_d717_11e9_a0a6_acde48001122row6_col11\" class=\"data row6 col11\" >last_update</td>\n",
       "                        <td id=\"T_69817d40_d717_11e9_a0a6_acde48001122row6_col12\" class=\"data row6 col12\" >active</td>\n",
       "                        <td id=\"T_69817d40_d717_11e9_a0a6_acde48001122row6_col13\" class=\"data row6 col13\" ></td>\n",
       "                        <td id=\"T_69817d40_d717_11e9_a0a6_acde48001122row6_col14\" class=\"data row6 col14\" >rental_rate</td>\n",
       "            </tr>\n",
       "            <tr>\n",
       "                        <th id=\"T_69817d40_d717_11e9_a0a6_acde48001122level0_row7\" class=\"row_heading level0 row7\" >7</th>\n",
       "                        <td id=\"T_69817d40_d717_11e9_a0a6_acde48001122row7_col0\" class=\"data row7 col0\" ></td>\n",
       "                        <td id=\"T_69817d40_d717_11e9_a0a6_acde48001122row7_col1\" class=\"data row7 col1\" ></td>\n",
       "                        <td id=\"T_69817d40_d717_11e9_a0a6_acde48001122row7_col2\" class=\"data row7 col2\" >last_update</td>\n",
       "                        <td id=\"T_69817d40_d717_11e9_a0a6_acde48001122row7_col3\" class=\"data row7 col3\" ></td>\n",
       "                        <td id=\"T_69817d40_d717_11e9_a0a6_acde48001122row7_col4\" class=\"data row7 col4\" ></td>\n",
       "                        <td id=\"T_69817d40_d717_11e9_a0a6_acde48001122row7_col5\" class=\"data row7 col5\" ></td>\n",
       "                        <td id=\"T_69817d40_d717_11e9_a0a6_acde48001122row7_col6\" class=\"data row7 col6\" >create_date</td>\n",
       "                        <td id=\"T_69817d40_d717_11e9_a0a6_acde48001122row7_col7\" class=\"data row7 col7\" ></td>\n",
       "                        <td id=\"T_69817d40_d717_11e9_a0a6_acde48001122row7_col8\" class=\"data row7 col8\" ></td>\n",
       "                        <td id=\"T_69817d40_d717_11e9_a0a6_acde48001122row7_col9\" class=\"data row7 col9\" ></td>\n",
       "                        <td id=\"T_69817d40_d717_11e9_a0a6_acde48001122row7_col10\" class=\"data row7 col10\" ></td>\n",
       "                        <td id=\"T_69817d40_d717_11e9_a0a6_acde48001122row7_col11\" class=\"data row7 col11\" ></td>\n",
       "                        <td id=\"T_69817d40_d717_11e9_a0a6_acde48001122row7_col12\" class=\"data row7 col12\" >username</td>\n",
       "                        <td id=\"T_69817d40_d717_11e9_a0a6_acde48001122row7_col13\" class=\"data row7 col13\" ></td>\n",
       "                        <td id=\"T_69817d40_d717_11e9_a0a6_acde48001122row7_col14\" class=\"data row7 col14\" >length</td>\n",
       "            </tr>\n",
       "            <tr>\n",
       "                        <th id=\"T_69817d40_d717_11e9_a0a6_acde48001122level0_row8\" class=\"row_heading level0 row8\" >8</th>\n",
       "                        <td id=\"T_69817d40_d717_11e9_a0a6_acde48001122row8_col0\" class=\"data row8 col0\" ></td>\n",
       "                        <td id=\"T_69817d40_d717_11e9_a0a6_acde48001122row8_col1\" class=\"data row8 col1\" ></td>\n",
       "                        <td id=\"T_69817d40_d717_11e9_a0a6_acde48001122row8_col2\" class=\"data row8 col2\" ></td>\n",
       "                        <td id=\"T_69817d40_d717_11e9_a0a6_acde48001122row8_col3\" class=\"data row8 col3\" ></td>\n",
       "                        <td id=\"T_69817d40_d717_11e9_a0a6_acde48001122row8_col4\" class=\"data row8 col4\" ></td>\n",
       "                        <td id=\"T_69817d40_d717_11e9_a0a6_acde48001122row8_col5\" class=\"data row8 col5\" ></td>\n",
       "                        <td id=\"T_69817d40_d717_11e9_a0a6_acde48001122row8_col6\" class=\"data row8 col6\" >last_update</td>\n",
       "                        <td id=\"T_69817d40_d717_11e9_a0a6_acde48001122row8_col7\" class=\"data row8 col7\" ></td>\n",
       "                        <td id=\"T_69817d40_d717_11e9_a0a6_acde48001122row8_col8\" class=\"data row8 col8\" ></td>\n",
       "                        <td id=\"T_69817d40_d717_11e9_a0a6_acde48001122row8_col9\" class=\"data row8 col9\" ></td>\n",
       "                        <td id=\"T_69817d40_d717_11e9_a0a6_acde48001122row8_col10\" class=\"data row8 col10\" ></td>\n",
       "                        <td id=\"T_69817d40_d717_11e9_a0a6_acde48001122row8_col11\" class=\"data row8 col11\" ></td>\n",
       "                        <td id=\"T_69817d40_d717_11e9_a0a6_acde48001122row8_col12\" class=\"data row8 col12\" >password</td>\n",
       "                        <td id=\"T_69817d40_d717_11e9_a0a6_acde48001122row8_col13\" class=\"data row8 col13\" ></td>\n",
       "                        <td id=\"T_69817d40_d717_11e9_a0a6_acde48001122row8_col14\" class=\"data row8 col14\" >replacement_cost</td>\n",
       "            </tr>\n",
       "            <tr>\n",
       "                        <th id=\"T_69817d40_d717_11e9_a0a6_acde48001122level0_row9\" class=\"row_heading level0 row9\" >9</th>\n",
       "                        <td id=\"T_69817d40_d717_11e9_a0a6_acde48001122row9_col0\" class=\"data row9 col0\" ></td>\n",
       "                        <td id=\"T_69817d40_d717_11e9_a0a6_acde48001122row9_col1\" class=\"data row9 col1\" ></td>\n",
       "                        <td id=\"T_69817d40_d717_11e9_a0a6_acde48001122row9_col2\" class=\"data row9 col2\" ></td>\n",
       "                        <td id=\"T_69817d40_d717_11e9_a0a6_acde48001122row9_col3\" class=\"data row9 col3\" ></td>\n",
       "                        <td id=\"T_69817d40_d717_11e9_a0a6_acde48001122row9_col4\" class=\"data row9 col4\" ></td>\n",
       "                        <td id=\"T_69817d40_d717_11e9_a0a6_acde48001122row9_col5\" class=\"data row9 col5\" ></td>\n",
       "                        <td id=\"T_69817d40_d717_11e9_a0a6_acde48001122row9_col6\" class=\"data row9 col6\" >active</td>\n",
       "                        <td id=\"T_69817d40_d717_11e9_a0a6_acde48001122row9_col7\" class=\"data row9 col7\" ></td>\n",
       "                        <td id=\"T_69817d40_d717_11e9_a0a6_acde48001122row9_col8\" class=\"data row9 col8\" ></td>\n",
       "                        <td id=\"T_69817d40_d717_11e9_a0a6_acde48001122row9_col9\" class=\"data row9 col9\" ></td>\n",
       "                        <td id=\"T_69817d40_d717_11e9_a0a6_acde48001122row9_col10\" class=\"data row9 col10\" ></td>\n",
       "                        <td id=\"T_69817d40_d717_11e9_a0a6_acde48001122row9_col11\" class=\"data row9 col11\" ></td>\n",
       "                        <td id=\"T_69817d40_d717_11e9_a0a6_acde48001122row9_col12\" class=\"data row9 col12\" >last_update</td>\n",
       "                        <td id=\"T_69817d40_d717_11e9_a0a6_acde48001122row9_col13\" class=\"data row9 col13\" ></td>\n",
       "                        <td id=\"T_69817d40_d717_11e9_a0a6_acde48001122row9_col14\" class=\"data row9 col14\" >rating</td>\n",
       "            </tr>\n",
       "            <tr>\n",
       "                        <th id=\"T_69817d40_d717_11e9_a0a6_acde48001122level0_row10\" class=\"row_heading level0 row10\" >10</th>\n",
       "                        <td id=\"T_69817d40_d717_11e9_a0a6_acde48001122row10_col0\" class=\"data row10 col0\" ></td>\n",
       "                        <td id=\"T_69817d40_d717_11e9_a0a6_acde48001122row10_col1\" class=\"data row10 col1\" ></td>\n",
       "                        <td id=\"T_69817d40_d717_11e9_a0a6_acde48001122row10_col2\" class=\"data row10 col2\" ></td>\n",
       "                        <td id=\"T_69817d40_d717_11e9_a0a6_acde48001122row10_col3\" class=\"data row10 col3\" ></td>\n",
       "                        <td id=\"T_69817d40_d717_11e9_a0a6_acde48001122row10_col4\" class=\"data row10 col4\" ></td>\n",
       "                        <td id=\"T_69817d40_d717_11e9_a0a6_acde48001122row10_col5\" class=\"data row10 col5\" ></td>\n",
       "                        <td id=\"T_69817d40_d717_11e9_a0a6_acde48001122row10_col6\" class=\"data row10 col6\" ></td>\n",
       "                        <td id=\"T_69817d40_d717_11e9_a0a6_acde48001122row10_col7\" class=\"data row10 col7\" ></td>\n",
       "                        <td id=\"T_69817d40_d717_11e9_a0a6_acde48001122row10_col8\" class=\"data row10 col8\" ></td>\n",
       "                        <td id=\"T_69817d40_d717_11e9_a0a6_acde48001122row10_col9\" class=\"data row10 col9\" ></td>\n",
       "                        <td id=\"T_69817d40_d717_11e9_a0a6_acde48001122row10_col10\" class=\"data row10 col10\" ></td>\n",
       "                        <td id=\"T_69817d40_d717_11e9_a0a6_acde48001122row10_col11\" class=\"data row10 col11\" ></td>\n",
       "                        <td id=\"T_69817d40_d717_11e9_a0a6_acde48001122row10_col12\" class=\"data row10 col12\" >picture</td>\n",
       "                        <td id=\"T_69817d40_d717_11e9_a0a6_acde48001122row10_col13\" class=\"data row10 col13\" ></td>\n",
       "                        <td id=\"T_69817d40_d717_11e9_a0a6_acde48001122row10_col14\" class=\"data row10 col14\" >last_update</td>\n",
       "            </tr>\n",
       "            <tr>\n",
       "                        <th id=\"T_69817d40_d717_11e9_a0a6_acde48001122level0_row11\" class=\"row_heading level0 row11\" >11</th>\n",
       "                        <td id=\"T_69817d40_d717_11e9_a0a6_acde48001122row11_col0\" class=\"data row11 col0\" ></td>\n",
       "                        <td id=\"T_69817d40_d717_11e9_a0a6_acde48001122row11_col1\" class=\"data row11 col1\" ></td>\n",
       "                        <td id=\"T_69817d40_d717_11e9_a0a6_acde48001122row11_col2\" class=\"data row11 col2\" ></td>\n",
       "                        <td id=\"T_69817d40_d717_11e9_a0a6_acde48001122row11_col3\" class=\"data row11 col3\" ></td>\n",
       "                        <td id=\"T_69817d40_d717_11e9_a0a6_acde48001122row11_col4\" class=\"data row11 col4\" ></td>\n",
       "                        <td id=\"T_69817d40_d717_11e9_a0a6_acde48001122row11_col5\" class=\"data row11 col5\" ></td>\n",
       "                        <td id=\"T_69817d40_d717_11e9_a0a6_acde48001122row11_col6\" class=\"data row11 col6\" ></td>\n",
       "                        <td id=\"T_69817d40_d717_11e9_a0a6_acde48001122row11_col7\" class=\"data row11 col7\" ></td>\n",
       "                        <td id=\"T_69817d40_d717_11e9_a0a6_acde48001122row11_col8\" class=\"data row11 col8\" ></td>\n",
       "                        <td id=\"T_69817d40_d717_11e9_a0a6_acde48001122row11_col9\" class=\"data row11 col9\" ></td>\n",
       "                        <td id=\"T_69817d40_d717_11e9_a0a6_acde48001122row11_col10\" class=\"data row11 col10\" ></td>\n",
       "                        <td id=\"T_69817d40_d717_11e9_a0a6_acde48001122row11_col11\" class=\"data row11 col11\" ></td>\n",
       "                        <td id=\"T_69817d40_d717_11e9_a0a6_acde48001122row11_col12\" class=\"data row11 col12\" ></td>\n",
       "                        <td id=\"T_69817d40_d717_11e9_a0a6_acde48001122row11_col13\" class=\"data row11 col13\" ></td>\n",
       "                        <td id=\"T_69817d40_d717_11e9_a0a6_acde48001122row11_col14\" class=\"data row11 col14\" >special_features</td>\n",
       "            </tr>\n",
       "            <tr>\n",
       "                        <th id=\"T_69817d40_d717_11e9_a0a6_acde48001122level0_row12\" class=\"row_heading level0 row12\" >12</th>\n",
       "                        <td id=\"T_69817d40_d717_11e9_a0a6_acde48001122row12_col0\" class=\"data row12 col0\" ></td>\n",
       "                        <td id=\"T_69817d40_d717_11e9_a0a6_acde48001122row12_col1\" class=\"data row12 col1\" ></td>\n",
       "                        <td id=\"T_69817d40_d717_11e9_a0a6_acde48001122row12_col2\" class=\"data row12 col2\" ></td>\n",
       "                        <td id=\"T_69817d40_d717_11e9_a0a6_acde48001122row12_col3\" class=\"data row12 col3\" ></td>\n",
       "                        <td id=\"T_69817d40_d717_11e9_a0a6_acde48001122row12_col4\" class=\"data row12 col4\" ></td>\n",
       "                        <td id=\"T_69817d40_d717_11e9_a0a6_acde48001122row12_col5\" class=\"data row12 col5\" ></td>\n",
       "                        <td id=\"T_69817d40_d717_11e9_a0a6_acde48001122row12_col6\" class=\"data row12 col6\" ></td>\n",
       "                        <td id=\"T_69817d40_d717_11e9_a0a6_acde48001122row12_col7\" class=\"data row12 col7\" ></td>\n",
       "                        <td id=\"T_69817d40_d717_11e9_a0a6_acde48001122row12_col8\" class=\"data row12 col8\" ></td>\n",
       "                        <td id=\"T_69817d40_d717_11e9_a0a6_acde48001122row12_col9\" class=\"data row12 col9\" ></td>\n",
       "                        <td id=\"T_69817d40_d717_11e9_a0a6_acde48001122row12_col10\" class=\"data row12 col10\" ></td>\n",
       "                        <td id=\"T_69817d40_d717_11e9_a0a6_acde48001122row12_col11\" class=\"data row12 col11\" ></td>\n",
       "                        <td id=\"T_69817d40_d717_11e9_a0a6_acde48001122row12_col12\" class=\"data row12 col12\" ></td>\n",
       "                        <td id=\"T_69817d40_d717_11e9_a0a6_acde48001122row12_col13\" class=\"data row12 col13\" ></td>\n",
       "                        <td id=\"T_69817d40_d717_11e9_a0a6_acde48001122row12_col14\" class=\"data row12 col14\" >fulltext</td>\n",
       "            </tr>\n",
       "    </tbody></table>"
      ],
      "text/plain": [
       "<pandas.io.formats.style.Styler at 0x118ffb7b8>"
      ]
     },
     "execution_count": 16,
     "metadata": {},
     "output_type": "execute_result"
    }
   ],
   "source": [
    "from util_database import get_dataframe_of_all_tables_and_all_columns\n",
    "\n",
    "get_dataframe_of_all_tables_and_all_columns(df_tables, tables_names, style=True)"
   ]
  },
  {
   "cell_type": "code",
   "execution_count": null,
   "metadata": {},
   "outputs": [],
   "source": []
  }
 ],
 "metadata": {
  "kernelspec": {
   "display_name": "Python (dataSc)",
   "language": "python",
   "name": "datasc"
  },
  "language_info": {
   "codemirror_mode": {
    "name": "ipython",
    "version": 3
   },
   "file_extension": ".py",
   "mimetype": "text/x-python",
   "name": "python",
   "nbconvert_exporter": "python",
   "pygments_lexer": "ipython3",
   "version": "3.7.3"
  },
  "toc": {
   "base_numbering": 1,
   "nav_menu": {},
   "number_sections": true,
   "sideBar": true,
   "skip_h1_title": false,
   "title_cell": "Table of Contents",
   "title_sidebar": "Contents",
   "toc_cell": true,
   "toc_position": {},
   "toc_section_display": true,
   "toc_window_display": true
  }
 },
 "nbformat": 4,
 "nbformat_minor": 2
}
